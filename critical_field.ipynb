{
 "cells": [
  {
   "cell_type": "code",
   "execution_count": 2,
   "metadata": {},
   "outputs": [],
   "source": [
    "import time\n",
    "import numpy as np\n",
    "from math import pi\n",
    "from scipy import optimize\n",
    "import matplotlib.pyplot as plt\n",
    "\n",
    "N, N_k= 20, 10 #Select the number of points given to calculated the approximated integral in each dimension\n",
    "               #(N_k refers to number of Matsubara frequencies)\n",
    "\n",
    "def integral_1r(m): #Tadpole integral\n",
    "    \n",
    "    def g_1(k,w):\n",
    "        return 1/(2*pi)**2*1/(w**2+4*np.sin(k/2)**2+m) \n",
    "    \n",
    "    v1=np.repeat(np.linspace(-pi,pi,N_k),2*N)\n",
    "    v2=np.tile(np.linspace(-2*pi*T*N,2*pi*T*N,2*N),N_k)\n",
    "    \n",
    "    return sum(g_1(v1,v2))*(2*pi*T)*(2*pi/N_k)\n",
    "\n",
    "def integral_2r(m): #Sunrise integral\n",
    "    \n",
    "    def g_2(k1,k2,w1,w2):\n",
    "        return 1/(2*pi)**4*1/((w1**2+4*np.sin(k1/2)**2+m)*(w2**2+4*np.sin(k2/2)**2+m)*((w1+w2)**2+(2*np.sin(k1/2)+2*np.sin(k2/2))**2+m))\n",
    "    \n",
    "    b1=np.repeat(np.linspace(-pi,pi,N_k),N_k*(2*N)*(2*N))\n",
    "    b2=np.tile(np.repeat(np.linspace(-pi,pi,N_k),(2*N)*(2*N)),N_k)\n",
    "    b3=np.tile(np.repeat(np.linspace(-2*pi*T*N,2*pi*T*N,2*N),(2*N)),N_k*N_k) \n",
    "    b4=np.tile(np.linspace(-2*pi*T*N,2*pi*T*N,2*N),(2*N)*N_k*N_k) \n",
    "    \n",
    "    return sum(g_2(b1,b2,b3,b4))*(2*pi*T)*(2*pi*T)*(2*pi/N_k)*(2*pi/N_k)\n",
    "    \n",
    "def integral_3r(m): #Coupling costant renormalisation\n",
    "    def g_3(k,w):\n",
    "        return 1/(2*pi)**2*1/(w**2+4*np.sin(k/2)**2+m)**2\n",
    "    v1=np.repeat(np.linspace(-pi,pi,N_k),2*N)\n",
    "    v2=np.tile(np.linspace(-2*pi*T*N,2*pi*T*N,2*N),N_k)\n",
    "    \n",
    "    return sum(g_3(v1,v2))*(2*pi*T)*(2*pi/N_k)\n",
    "\n",
    "#Self-consistenet equations to second order in loop expansion\n",
    "\n",
    "def ecuacion_1r(m):\n",
    "    return m-(lambd/2)*integral_1r(m)\n",
    "\n",
    "def ecuacion_2r(m):\n",
    "    return -mr2+m-(lambd**2/6)*integral_2r(m)\n",
    "\n",
    "def lambda_bare(m):\n",
    "    return lambd+(3*lambd**2/2)*integral_3r(m)\n",
    "    \n",
    "#m_r1=optimize.newton(ecuacion_2r,m0,tol=1e-2,full_output=True)"
   ]
  },
  {
   "cell_type": "markdown",
   "metadata": {},
   "source": [
    "Critical line plots"
   ]
  },
  {
   "cell_type": "code",
   "execution_count": 31,
   "metadata": {},
   "outputs": [
    {
     "name": "stdout",
     "output_type": "stream",
     "text": [
      "0\n",
      "0.005971421552537079\n",
      "0.005976039577168389\n",
      "0.005973984231339978\n",
      "0.005978846525879811\n",
      "0.005976760469598654\n",
      "0.005980441024241337\n",
      "0.005978539661759274\n",
      "0.005979043174228268\n",
      "0.005979736639967703\n",
      "0.005978890873565469\n",
      "0.0059792370454205546\n",
      "0.005979703139545673\n",
      "0.0059797314188212046\n",
      "0.00597904338556572\n",
      "0.005979043176629228\n",
      "0.005979172002523335\n",
      "0.005979085962175284\n",
      "0.005979391706809233\n",
      "0.0059792409123876605\n",
      "0.0059794237410223\n"
     ]
    }
   ],
   "source": [
    "index_lambdas=20\n",
    "index_mr2=10\n",
    "\n",
    "T=2 #select the temperature\n",
    "lambdas=np.linspace(1e-10,15,index_lambdas)\n",
    "m0=0.1 #educated guess\n",
    "MR2=[0] #MR2=linspace(0.0001,2,index_mr2) for values of mr2 which are not in the critical region\n",
    "m_0C,lambda_0 =np.empty([index_lambdas,index_mr2]), np.empty([index_lambdas,index_mr2])\n",
    "\n",
    "k,l=0,0\n",
    "for mr2 in MR2:\n",
    "    print(k)\n",
    "    for lambd in lambdas:\n",
    "        m_r1=optimize.newton(ecuacion_2r,m0,tol=1e-2)\n",
    "        print(m_r1)\n",
    "        m_0C[l,k]=ecuacion_1r(m_r1)\n",
    "        lambda_0[l,k]=lambda_bare(m_r1)\n",
    "        l+=1\n",
    "    k+=1\n",
    "    l=0\n",
    "    \n",
    "plt.plot(m_0C[:,0], lambda_0[:,0]) #Change the array index if more than one mr2 values are given\n",
    "plt.xlabel('$m_0^{2}$')\n",
    "plt.ylabel('$\\lambda_0$')\n",
    "plt.show()"
   ]
  },
  {
   "cell_type": "markdown",
   "metadata": {},
   "source": [
    "Contour plots"
   ]
  },
  {
   "cell_type": "code",
   "execution_count": 40,
   "metadata": {},
   "outputs": [
    {
     "name": "stdout",
     "output_type": "stream",
     "text": [
      "Completed (%): 0.0\r"
     ]
    },
    {
     "name": "stderr",
     "output_type": "stream",
     "text": [
      "/Users/pablovinasmartinez/opt/anaconda3/lib/python3.7/site-packages/ipykernel_launcher.py:23: RuntimeWarning: divide by zero encountered in true_divide\n",
      "/Users/pablovinasmartinez/opt/anaconda3/lib/python3.7/site-packages/ipykernel_launcher.py:30: RuntimeWarning: invalid value encountered in double_scalars\n"
     ]
    },
    {
     "ename": "RuntimeError",
     "evalue": "Failed to converge after 50 iterations, value is nan.",
     "output_type": "error",
     "traceback": [
      "\u001b[0;31m---------------------------------------------------------------------------\u001b[0m",
      "\u001b[0;31mRuntimeError\u001b[0m                              Traceback (most recent call last)",
      "\u001b[0;32m<ipython-input-40-6225ece4369a>\u001b[0m in \u001b[0;36m<module>\u001b[0;34m\u001b[0m\n\u001b[1;32m     18\u001b[0m         \u001b[0;32mfor\u001b[0m \u001b[0mlambd\u001b[0m \u001b[0;32min\u001b[0m \u001b[0mlambdas\u001b[0m\u001b[0;34m:\u001b[0m\u001b[0;34m\u001b[0m\u001b[0;34m\u001b[0m\u001b[0m\n\u001b[1;32m     19\u001b[0m             \u001b[0mprint\u001b[0m\u001b[0;34m(\u001b[0m\u001b[0;34m'Completed (%):'\u001b[0m\u001b[0;34m,\u001b[0m\u001b[0;36m100\u001b[0m\u001b[0;34m*\u001b[0m\u001b[0miteraciones\u001b[0m\u001b[0;34m/\u001b[0m\u001b[0;34m(\u001b[0m\u001b[0mindex_lambdas\u001b[0m\u001b[0;34m*\u001b[0m\u001b[0mindex_mr2\u001b[0m\u001b[0;34m*\u001b[0m\u001b[0mindex_T\u001b[0m\u001b[0;34m)\u001b[0m\u001b[0;34m,\u001b[0m\u001b[0mend\u001b[0m\u001b[0;34m=\u001b[0m\u001b[0;34m'\\r'\u001b[0m\u001b[0;34m)\u001b[0m\u001b[0;34m\u001b[0m\u001b[0;34m\u001b[0m\u001b[0m\n\u001b[0;32m---> 20\u001b[0;31m             \u001b[0mm_r1\u001b[0m\u001b[0;34m=\u001b[0m\u001b[0moptimize\u001b[0m\u001b[0;34m.\u001b[0m\u001b[0mnewton\u001b[0m\u001b[0;34m(\u001b[0m\u001b[0mecuacion_2r\u001b[0m\u001b[0;34m,\u001b[0m\u001b[0mm0\u001b[0m\u001b[0;34m,\u001b[0m\u001b[0mtol\u001b[0m\u001b[0;34m=\u001b[0m\u001b[0;36m1e-2\u001b[0m\u001b[0;34m)\u001b[0m\u001b[0;34m\u001b[0m\u001b[0;34m\u001b[0m\u001b[0m\n\u001b[0m\u001b[1;32m     21\u001b[0m             \u001b[0mm0\u001b[0m\u001b[0;34m=\u001b[0m\u001b[0mm_r1\u001b[0m\u001b[0;34m\u001b[0m\u001b[0;34m\u001b[0m\u001b[0m\n\u001b[1;32m     22\u001b[0m             \u001b[0mm_0C\u001b[0m\u001b[0;34m[\u001b[0m\u001b[0ml\u001b[0m\u001b[0;34m,\u001b[0m\u001b[0mk\u001b[0m\u001b[0;34m,\u001b[0m\u001b[0mj\u001b[0m\u001b[0;34m]\u001b[0m\u001b[0;34m=\u001b[0m\u001b[0mecuacion_1r\u001b[0m\u001b[0;34m(\u001b[0m\u001b[0mm_r1\u001b[0m\u001b[0;34m)\u001b[0m\u001b[0;34m\u001b[0m\u001b[0;34m\u001b[0m\u001b[0m\n",
      "\u001b[0;32m~/opt/anaconda3/lib/python3.7/site-packages/scipy/optimize/zeros.py\u001b[0m in \u001b[0;36mnewton\u001b[0;34m(func, x0, fprime, args, tol, maxiter, fprime2, x1, rtol, full_output, disp)\u001b[0m\n\u001b[1;32m    359\u001b[0m         msg = (\"Failed to converge after %d iterations, value is %s.\"\n\u001b[1;32m    360\u001b[0m                % (itr + 1, p))\n\u001b[0;32m--> 361\u001b[0;31m         \u001b[0;32mraise\u001b[0m \u001b[0mRuntimeError\u001b[0m\u001b[0;34m(\u001b[0m\u001b[0mmsg\u001b[0m\u001b[0;34m)\u001b[0m\u001b[0;34m\u001b[0m\u001b[0;34m\u001b[0m\u001b[0m\n\u001b[0m\u001b[1;32m    362\u001b[0m \u001b[0;34m\u001b[0m\u001b[0m\n\u001b[1;32m    363\u001b[0m     \u001b[0;32mreturn\u001b[0m \u001b[0m_results_select\u001b[0m\u001b[0;34m(\u001b[0m\u001b[0mfull_output\u001b[0m\u001b[0;34m,\u001b[0m \u001b[0;34m(\u001b[0m\u001b[0mp\u001b[0m\u001b[0;34m,\u001b[0m \u001b[0mfuncalls\u001b[0m\u001b[0;34m,\u001b[0m \u001b[0mitr\u001b[0m \u001b[0;34m+\u001b[0m \u001b[0;36m1\u001b[0m\u001b[0;34m,\u001b[0m \u001b[0m_ECONVERR\u001b[0m\u001b[0;34m)\u001b[0m\u001b[0;34m)\u001b[0m\u001b[0;34m\u001b[0m\u001b[0;34m\u001b[0m\u001b[0m\n",
      "\u001b[0;31mRuntimeError\u001b[0m: Failed to converge after 50 iterations, value is nan."
     ]
    }
   ],
   "source": [
    "index_lambdas=5 #select the number of points accoirding to the dessired precission\n",
    "index_mr2=5\n",
    "index_T=20\n",
    "\n",
    "lambdas=np.linspace(1e-5,300,index_lambdas)\n",
    "MR2=np.linspace(1e-15,0.0001,index_mr2) #MR2=[0]\n",
    "t=np.linspace(0,0.3,index_T)\n",
    "\n",
    "m_0C,lambda_0 = np.empty([index_lambdas,index_mr2,index_T]), np.empty([index_lambdas,index_mr2,index_T])\n",
    "\n",
    "k, l, j= 0, 0, 0\n",
    "iteraciones=0\n",
    "\n",
    "startTime = time.time()\n",
    "for T in t:\n",
    "    for mr2 in MR2:\n",
    "        m0=mr2\n",
    "        for lambd in lambdas:\n",
    "            print('Completed (%):',100*iteraciones/(index_lambdas*index_mr2*index_T),end='\\r')\n",
    "            m_r1=optimize.newton(ecuacion_2r,m0,tol=1e-2)\n",
    "            m0=m_r1\n",
    "            m_0C[l,k,j]=ecuacion_1r(m_r1)\n",
    "            lambda_0[l,k,j]=lambda_bare(m_r1)\n",
    "            iteraciones+=1\n",
    "            l+=1\n",
    "        k+=1\n",
    "        l=0\n",
    "    j+=1\n",
    "    k=0\n",
    "\n",
    "executionTime=(time.time()-startTime)\n",
    "print('Execution time:' ,executionTime)"
   ]
  },
  {
   "cell_type": "code",
   "execution_count": 39,
   "metadata": {},
   "outputs": [],
   "source": [
    "lambda_fijo=1e-4 #select the dessired lambda value to generate a contourplot from the previous grid\n",
    "m_0C_new, MR2_new, t_new= np.empty([index_mr2,index_T]), np.empty([index_mr2,index_T]), np.empty([index_mr2,index_T])\n",
    "\n",
    "for i in range(index_mr2):\n",
    "    for j in range(index_T):\n",
    "        diferencias=abs(lambda_0[:,i,j]-lambda_fijo)\n",
    "        index_lambda_fijo=np.where(diferencias==min(diferencias))\n",
    "        m_0C_new[i,j]=m_0C[index_lambda_fijo,i,j]\n",
    "    MR2_new[i,:]= MR2[i]#1/MR2[i]\n",
    "\n",
    "for i in range(index_T):\n",
    "    t_new[:,i]=t[i]\n",
    "    \n",
    "%matplotlib qt\n",
    "plt.contourf(m_0C_new,t_new,MR2_new,100,cmap=\"plasma\")\n",
    "plt.xlabel('$m_0^{2}$')\n",
    "plt.ylabel('$T$')\n",
    "#plt.xlim()\n",
    "#plt.ylim()\n",
    "plt.grid()\n",
    "cbar=plt.colorbar()\n",
    "cbar.set_label('${m_{R2}}^2$')"
   ]
  },
  {
   "cell_type": "code",
   "execution_count": null,
   "metadata": {},
   "outputs": [],
   "source": []
  }
 ],
 "metadata": {
  "kernelspec": {
   "display_name": "Python 3.7.4 ('base')",
   "language": "python",
   "name": "python3"
  },
  "language_info": {
   "codemirror_mode": {
    "name": "ipython",
    "version": 3
   },
   "file_extension": ".py",
   "mimetype": "text/x-python",
   "name": "python",
   "nbconvert_exporter": "python",
   "pygments_lexer": "ipython3",
   "version": "3.7.4"
  },
  "vscode": {
   "interpreter": {
    "hash": "12b14a0f037501b1c1fd39d8955a9a678afe32a4252be82baea156a9ea8fade1"
   }
  }
 },
 "nbformat": 4,
 "nbformat_minor": 2
}
