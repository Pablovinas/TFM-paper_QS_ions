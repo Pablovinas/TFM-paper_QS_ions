{
 "cells": [
  {
   "cell_type": "code",
   "execution_count": 1,
   "metadata": {},
   "outputs": [],
   "source": [
    "import time\n",
    "import numpy as np\n",
    "from math import pi\n",
    "from scipy import optimize\n",
    "import matplotlib.pyplot as plt\n",
    "\n",
    "N, N_k= 20, 10 #Select the number of points given to calculated the approximated integral in each dimension\n",
    "               #(N_k refers to number of Matsubara frequencies)\n",
    "\n",
    "def integral_1r(m): #Tadpole integral\n",
    "    \n",
    "    def g_1(k,w):\n",
    "        return 1/(2*pi)**2*1/(w**2+4*np.sin(k/2)**2+m) \n",
    "    \n",
    "    v1=np.repeat(np.linspace(-pi,pi,N_k),2*N)\n",
    "    v2=np.tile(np.linspace(-2*pi*T*N,2*pi*T*N,2*N),N_k)\n",
    "    \n",
    "    return sum(g_1(v1,v2))*(2*pi*T)*(2*pi/N_k)\n",
    "\n",
    "def integral_2r(m): #Sunrise integral\n",
    "    \n",
    "    def g_2(k1,k2,w1,w2):\n",
    "        return 1/(2*pi)**4*1/((w1**2+4*np.sin(k1/2)**2+m)*(w2**2+4*np.sin(k2/2)**2+m)*((w1+w2)**2+(2*np.sin(k1/2)+2*np.sin(k2/2))**2+m))\n",
    "    \n",
    "    b1=np.repeat(np.linspace(-pi,pi,N_k),N_k*(2*N)*(2*N))\n",
    "    b2=np.tile(np.repeat(np.linspace(-pi,pi,N_k),(2*N)*(2*N)),N_k)\n",
    "    b3=np.tile(np.repeat(np.linspace(-2*pi*T*N,2*pi*T*N,2*N),(2*N)),N_k*N_k) \n",
    "    b4=np.tile(np.linspace(-2*pi*T*N,2*pi*T*N,2*N),(2*N)*N_k*N_k) \n",
    "    \n",
    "    return sum(g_2(b1,b2,b3,b4))*(2*pi*T)*(2*pi*T)*(2*pi/N_k)*(2*pi/N_k)\n",
    "    \n",
    "def integral_3r(m): #Coupling costant renormalisation\n",
    "    def g_3(k,w):\n",
    "        return 1/(2*pi)**2*1/(w**2+4*np.sin(k/2)**2+m)**2\n",
    "    v1=np.repeat(np.linspace(-pi,pi,N_k),2*N)\n",
    "    v2=np.tile(np.linspace(-2*pi*T*N,2*pi*T*N,2*N),N_k)\n",
    "    \n",
    "    return sum(g_3(v1,v2))*(2*pi*T)*(2*pi/N_k)\n",
    "\n",
    "#Self-consistenet equations to second order in loop expansion\n",
    "\n",
    "def ecuacion_1r(m):\n",
    "    return m-(lambd/2)*integral_1r(m)\n",
    "\n",
    "def ecuacion_2r(m):\n",
    "    return -mr2+m-(lambd**2/6)*integral_2r(m)\n",
    "\n",
    "def lambda_bare(m):\n",
    "    return lambd+(3*lambd**2/2)*integral_3r(m)\n",
    "    \n",
    "#m_r1=optimize.newton(ecuacion_2r,m0,tol=1e-2,full_output=True)"
   ]
  },
  {
   "cell_type": "markdown",
   "metadata": {},
   "source": [
    "Critical line plots"
   ]
  },
  {
   "cell_type": "code",
   "execution_count": 2,
   "metadata": {},
   "outputs": [
    {
     "name": "stdout",
     "output_type": "stream",
     "text": [
      "0\n",
      "0.007078186492357993\n",
      "0.03831898625483375\n",
      "0.07378884754731069\n",
      "0.11053195312924341\n",
      "0.146536050084555\n",
      "0.18544675524691853\n",
      "0.22373144667257217\n",
      "0.2611343159412096\n",
      "0.29911831472096917\n",
      "0.3364806169730036\n",
      "0.373568598260504\n",
      "0.41030140981188207\n",
      "0.447700349603344\n",
      "0.4843238627797094\n",
      "0.5207156011299072\n",
      "0.5568583576863442\n",
      "0.592731144929491\n",
      "0.6289151344311515\n",
      "0.6645367228933884\n",
      "0.6999524222195026\n"
     ]
    },
    {
     "data": {
      "image/png": "[encoded data removed]",
      "text/plain": [
       "<Figure size 432x288 with 1 Axes>"
      ]
     },
     "metadata": {
      "needs_background": "light"
     },
     "output_type": "display_data"
    }
   ],
   "source": [
    "index_lambdas=20\n",
    "index_mr2=10\n",
    "\n",
    "T=0.1 #select the temperature\n",
    "lambdas=np.linspace(0.1,15,index_lambdas)\n",
    "m0=0.1 #educated guess\n",
    "MR2=[0] #MR2=linspace(0.0001,2,index_mr2) for values of mr2 which are not in the critical region\n",
    "m_0C,lambda_0 =np.empty([index_lambdas,index_mr2]), np.empty([index_lambdas,index_mr2])\n",
    "\n",
    "k,l=0,0\n",
    "for mr2 in MR2:\n",
    "    print(k)\n",
    "    for lambd in lambdas:\n",
    "        m_r1=optimize.newton(ecuacion_2r,m0,tol=1e-2)\n",
    "        print(m_r1)\n",
    "        m_0C[l,k]=ecuacion_1r(m_r1)\n",
    "        lambda_0[l,k]=lambda_bare(m_r1)\n",
    "        l+=1\n",
    "    k+=1\n",
    "    l=0\n",
    "    \n",
    "plt.plot(m_0C[:,0], lambda_0[:,0]) #Change the array index if more than one mr2 values are given\n",
    "plt.xlabel('$m_0^{2}$')\n",
    "plt.ylabel('$\\lambda_0$')\n",
    "plt.show()"
   ]
  },
  {
   "cell_type": "markdown",
   "metadata": {},
   "source": [
    "Contour plots"
   ]
  },
  {
   "cell_type": "code",
   "execution_count": 3,
   "metadata": {},
   "outputs": [
    {
     "name": "stdout",
     "output_type": "stream",
     "text": [
      "Execution time: 15.878720998764038\n"
     ]
    }
   ],
   "source": [
    "index_lambdas=10 #select the number of points accoirding to the dessired precission\n",
    "index_mr2=5\n",
    "index_T=5\n",
    "\n",
    "lambdas=np.linspace(0.01,15,index_lambdas)\n",
    "MR2=np.linspace(0.0001,2,index_mr2) #MR2=[0]\n",
    "t=np.linspace(0,0.3,index_T)\n",
    "\n",
    "m_0C,lambda_0 = np.empty([index_lambdas,index_mr2,index_T]), np.empty([index_lambdas,index_mr2,index_T])\n",
    "\n",
    "k, l, j= 0, 0, 0\n",
    "iteraciones=0\n",
    "\n",
    "startTime = time.time()\n",
    "for T in t:\n",
    "    for mr2 in MR2:\n",
    "        m0=mr2\n",
    "        for lambd in lambdas:\n",
    "            print('Completed (%):',100*iteraciones/(index_lambdas*index_mr2*index_T),end='\\r')\n",
    "            m_r1=optimize.newton(ecuacion_2r,m0,tol=1e-2)\n",
    "            m0=m_r1\n",
    "            m_0C[l,k,j]=ecuacion_1r(m_r1)\n",
    "            lambda_0[l,k,j]=lambda_bare(m_r1)\n",
    "            iteraciones+=1\n",
    "            l+=1\n",
    "        k+=1\n",
    "        l=0\n",
    "    j+=1\n",
    "    k=0\n",
    "\n",
    "executionTime=(time.time()-startTime)\n",
    "print('Execution time:' ,executionTime)"
   ]
  },
  {
   "cell_type": "code",
   "execution_count": 4,
   "metadata": {},
   "outputs": [],
   "source": [
    "lambda_fijo=15 #select the dessired lambda value to generate a contourplot from the previous grid\n",
    "m_0C_new, MR2_new, t_new= np.empty([index_mr2,index_T]), np.empty([index_mr2,index_T]), np.empty([index_mr2,index_T])\n",
    "\n",
    "for i in range(index_mr2):\n",
    "    for j in range(index_T):\n",
    "        diferencias=abs(lambda_0[:,i,j]-lambda_fijo)\n",
    "        index_lambda_fijo=np.where(diferencias==min(diferencias))\n",
    "        m_0C_new[i,j]=m_0C[index_lambda_fijo,i,j]\n",
    "    MR2_new[i,:]= MR2[i]#1/MR2[i]\n",
    "\n",
    "for i in range(index_T):\n",
    "    t_new[:,i]=t[i]\n",
    "    \n",
    "%matplotlib qt\n",
    "plt.contourf(m_0C_new,t_new,MR2_new,100,cmap=\"plasma\")\n",
    "plt.xlabel('$m_0^{2}$')\n",
    "plt.ylabel('$T$')\n",
    "#plt.xlim()\n",
    "#plt.ylim()\n",
    "plt.grid()\n",
    "cbar=plt.colorbar()\n",
    "cbar.set_label('${m_{R2}}^2$')"
   ]
  },
  {
   "cell_type": "code",
   "execution_count": null,
   "metadata": {},
   "outputs": [],
   "source": []
  }
 ],
 "metadata": {
  "kernelspec": {
   "display_name": "Python 3",
   "language": "python",
   "name": "python3"
  },
  "language_info": {
   "codemirror_mode": {
    "name": "ipython",
    "version": 3
   },
   "file_extension": ".py",
   "mimetype": "text/x-python",
   "name": "python",
   "nbconvert_exporter": "python",
   "pygments_lexer": "ipython3",
   "version": "3.7.4"
  }
 },
 "nbformat": 4,
 "nbformat_minor": 2
}
