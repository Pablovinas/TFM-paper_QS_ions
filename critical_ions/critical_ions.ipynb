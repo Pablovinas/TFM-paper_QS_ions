{
 "cells": [
  {
   "cell_type": "code",
   "execution_count": 2,
   "metadata": {},
   "outputs": [],
   "source": [
    "import time\n",
    "import numpy as np\n",
    "from math import pi\n",
    "from scipy import optimize\n",
    "import matplotlib.pyplot as plt\n",
    "\n",
    "N, N_k= 20, 10 #Select the number of points given to calculated the approximated integral in each dimension\n",
    "               #(N_k refers to number of Matsubara frequencies)\n",
    "\n",
    "terminos=50 #modify\n",
    "\n",
    "a_l=0.279894 #use the equilibrium_positions program to compute this parameter\n",
    "\n",
    "def largo_alcance(k,terminos): #long-range interactions\n",
    "    senos1, senos2 =0, 0\n",
    "    for i in range(1,int(terminos+1/2)):\n",
    "        senos1+=1/i**3*np.sin(k*i/2)**2\n",
    "    \n",
    "    if terminos>9:\n",
    "        for i in range(int((terminos-2)/4)):\n",
    "            senos2+=1/(2*i+1)**2\n",
    "    else:\n",
    "        for i in range(int((terminos-1)/2)):\n",
    "            senos2+=1/(2*i+1)**2\n",
    "        \n",
    "    senos=senos2-senos1\n",
    "    return ((1/a_l)**3*4*senos)**(1/2)\n",
    "\n",
    "def integral_1r(m): #Tadpole integral\n",
    "    \n",
    "    def g_1(k,w):\n",
    "        return ((1/a_l**3)*np.log(2))**(1/2)/(2*pi)**2*1/(w**2+largo_alcance(k,terminos)**2+m) \n",
    "    \n",
    "    v1=np.repeat(np.linspace(-pi,pi,N_k),2*N)\n",
    "    v2=np.tile(np.linspace(-2*pi*T*N,2*pi*T*N,2*N),N_k)\n",
    "    return sum(g_1(v1,v2))*(2*pi*T)*(2*pi/N_k)\n",
    "\n",
    "def integral_2r(m): #Sunrise integral\n",
    "    \n",
    "    def g_2(k1,k2,w1,w2):\n",
    "        return ((1/a_l**3)*np.log(2))/(2*pi)**4*1/((w1**2+largo_alcance(k1,terminos)**2+m)*(w2**2+largo_alcance(k2,terminos)**2+m)*((w1+w2)**2+(largo_alcance(k1,terminos)+largo_alcance(k2,terminos))**2+m))\n",
    "    \n",
    "    b1=np.repeat(np.linspace(-pi,pi,N_k),N_k*(2*N)*(2*N))\n",
    "    b2=np.tile(np.repeat(np.linspace(-pi,pi,N_k),(2*N)*(2*N)),N_k)\n",
    "    b3=np.tile(np.repeat(np.linspace(-2*pi*T*N,2*pi*T*N,2*N),(2*N)),N_k*N_k)\n",
    "    b4=np.tile(np.linspace(-2*pi*T*N,2*pi*T*N,2*N),(2*N)*N_k*N_k)\n",
    "    \n",
    "    return sum(g_2(b1,b2,b3,b4))*(2*pi*T)*(2*pi*T)*(2*pi/N_k)*(2*pi/N_k)\n",
    "\n",
    "def integral_3r(m): #Coupling constant renormalisation\n",
    "    def g_3(k,w):\n",
    "        return ((1/a_l**3)*np.log(2))**(1/2)/(2*pi)**2*1/(w**2+largo_alcance(k,terminos)**2+m)**2\n",
    "    v1=np.repeat(np.linspace(-pi,pi,N_k),2*N)\n",
    "    v2=np.tile(np.linspace(-2*pi*T*N,2*pi*T*N,2*N),N_k)\n",
    "    \n",
    "    return sum(g_3(v1,v2))*(2*pi*T)*(2*pi/N_k)\n",
    "\n",
    "#Self-consistenet equations to second order in loop expansion\n",
    "\n",
    "def ecuacion_1r(m):\n",
    "    return m-(lambd/2)*integral_1r(m)\n",
    "\n",
    "def ecuacion_2r(m):\n",
    "    return -mr2+m-(lambd**2/6)*integral_2r(m)\n",
    "\n",
    "def lambda_bare(m):\n",
    "    return lambd+(3*lambd**2/2)*integral_3r(m)\n",
    "\n",
    "#m_r1=optimize.newton(ecuacion_2r,m0,tol=1e-2,full_output=True)"
   ]
  },
  {
   "cell_type": "markdown",
   "metadata": {},
   "source": [
    "Critical line plots for different neighbour interactions values"
   ]
  },
  {
   "cell_type": "code",
   "execution_count": 33,
   "metadata": {},
   "outputs": [
    {
     "name": "stdout",
     "output_type": "stream",
     "text": [
      "5\n",
      "-0.1703917781712104\n",
      "-2.9653672643604883\n",
      "-5.706630220792411\n",
      "-8.38818292625812\n",
      "-11.005395763657862\n",
      "-13.555081369421465\n",
      "-16.035449228852553\n",
      "-18.445970286883583\n",
      "-20.787189226211435\n",
      "-23.06026080588314\n",
      "15\n",
      "-0.15578835176626718\n"
     ]
    },
    {
     "ename": "KeyboardInterrupt",
     "evalue": "",
     "output_type": "error",
     "traceback": [
      "\u001b[0;31m---------------------------------------------------------------------------\u001b[0m",
      "\u001b[0;31mKeyboardInterrupt\u001b[0m                         Traceback (most recent call last)",
      "\u001b[0;32m<ipython-input-33-38a60a148af5>\u001b[0m in \u001b[0;36m<module>\u001b[0;34m\u001b[0m\n\u001b[1;32m     12\u001b[0m     \u001b[0mprint\u001b[0m\u001b[0;34m(\u001b[0m\u001b[0mterminos\u001b[0m\u001b[0;34m)\u001b[0m\u001b[0;34m\u001b[0m\u001b[0;34m\u001b[0m\u001b[0m\n\u001b[1;32m     13\u001b[0m     \u001b[0;32mfor\u001b[0m \u001b[0mlambd\u001b[0m \u001b[0;32min\u001b[0m \u001b[0mlambdas\u001b[0m\u001b[0;34m:\u001b[0m\u001b[0;34m\u001b[0m\u001b[0;34m\u001b[0m\u001b[0m\n\u001b[0;32m---> 14\u001b[0;31m         \u001b[0mm_r1\u001b[0m\u001b[0;34m[\u001b[0m\u001b[0mindice_termino\u001b[0m\u001b[0;34m,\u001b[0m\u001b[0mindice_lambd\u001b[0m\u001b[0;34m]\u001b[0m\u001b[0;34m=\u001b[0m\u001b[0moptimize\u001b[0m\u001b[0;34m.\u001b[0m\u001b[0mnewton\u001b[0m\u001b[0;34m(\u001b[0m\u001b[0mecuacion_2r\u001b[0m\u001b[0;34m,\u001b[0m\u001b[0mm_r1\u001b[0m\u001b[0;34m[\u001b[0m\u001b[0mindice_termino\u001b[0m\u001b[0;34m-\u001b[0m\u001b[0;36m1\u001b[0m\u001b[0;34m,\u001b[0m\u001b[0mindice_lambd\u001b[0m\u001b[0;34m]\u001b[0m\u001b[0;34m,\u001b[0m\u001b[0mtol\u001b[0m\u001b[0;34m=\u001b[0m\u001b[0;36m1e-2\u001b[0m\u001b[0;34m)\u001b[0m\u001b[0;34m\u001b[0m\u001b[0;34m\u001b[0m\u001b[0m\n\u001b[0m\u001b[1;32m     15\u001b[0m         \u001b[0mm_0C\u001b[0m\u001b[0;34m[\u001b[0m\u001b[0mindice_termino\u001b[0m\u001b[0;34m,\u001b[0m\u001b[0mindice_lambd\u001b[0m\u001b[0;34m]\u001b[0m\u001b[0;34m=\u001b[0m\u001b[0mecuacion_1r\u001b[0m\u001b[0;34m(\u001b[0m\u001b[0mm_r1\u001b[0m\u001b[0;34m[\u001b[0m\u001b[0mindice_termino\u001b[0m\u001b[0;34m,\u001b[0m\u001b[0mindice_lambd\u001b[0m\u001b[0;34m]\u001b[0m\u001b[0;34m)\u001b[0m\u001b[0;34m\u001b[0m\u001b[0;34m\u001b[0m\u001b[0m\n\u001b[1;32m     16\u001b[0m         \u001b[0mlambda_0\u001b[0m\u001b[0;34m[\u001b[0m\u001b[0mindice_termino\u001b[0m\u001b[0;34m,\u001b[0m\u001b[0mindice_lambd\u001b[0m\u001b[0;34m]\u001b[0m\u001b[0;34m=\u001b[0m\u001b[0mlambda_bare\u001b[0m\u001b[0;34m(\u001b[0m\u001b[0mm_r1\u001b[0m\u001b[0;34m[\u001b[0m\u001b[0mindice_termino\u001b[0m\u001b[0;34m,\u001b[0m\u001b[0mindice_lambd\u001b[0m\u001b[0;34m]\u001b[0m\u001b[0;34m)\u001b[0m\u001b[0;34m\u001b[0m\u001b[0;34m\u001b[0m\u001b[0m\n",
      "\u001b[0;32m~/opt/anaconda3/lib/python3.7/site-packages/scipy/optimize/zeros.py\u001b[0m in \u001b[0;36mnewton\u001b[0;34m(func, x0, fprime, args, tol, maxiter, fprime2, x1, rtol, full_output, disp)\u001b[0m\n\u001b[1;32m    324\u001b[0m             \u001b[0mp1\u001b[0m \u001b[0;34m=\u001b[0m \u001b[0mx0\u001b[0m \u001b[0;34m*\u001b[0m \u001b[0;34m(\u001b[0m\u001b[0;36m1\u001b[0m \u001b[0;34m+\u001b[0m \u001b[0meps\u001b[0m\u001b[0;34m)\u001b[0m\u001b[0;34m\u001b[0m\u001b[0;34m\u001b[0m\u001b[0m\n\u001b[1;32m    325\u001b[0m             \u001b[0mp1\u001b[0m \u001b[0;34m+=\u001b[0m \u001b[0;34m(\u001b[0m\u001b[0meps\u001b[0m \u001b[0;32mif\u001b[0m \u001b[0mp1\u001b[0m \u001b[0;34m>=\u001b[0m \u001b[0;36m0\u001b[0m \u001b[0;32melse\u001b[0m \u001b[0;34m-\u001b[0m\u001b[0meps\u001b[0m\u001b[0;34m)\u001b[0m\u001b[0;34m\u001b[0m\u001b[0;34m\u001b[0m\u001b[0m\n\u001b[0;32m--> 326\u001b[0;31m         \u001b[0mq0\u001b[0m \u001b[0;34m=\u001b[0m \u001b[0mfunc\u001b[0m\u001b[0;34m(\u001b[0m\u001b[0mp0\u001b[0m\u001b[0;34m,\u001b[0m \u001b[0;34m*\u001b[0m\u001b[0margs\u001b[0m\u001b[0;34m)\u001b[0m\u001b[0;34m\u001b[0m\u001b[0;34m\u001b[0m\u001b[0m\n\u001b[0m\u001b[1;32m    327\u001b[0m         \u001b[0mfuncalls\u001b[0m \u001b[0;34m+=\u001b[0m \u001b[0;36m1\u001b[0m\u001b[0;34m\u001b[0m\u001b[0;34m\u001b[0m\u001b[0m\n\u001b[1;32m    328\u001b[0m         \u001b[0mq1\u001b[0m \u001b[0;34m=\u001b[0m \u001b[0mfunc\u001b[0m\u001b[0;34m(\u001b[0m\u001b[0mp1\u001b[0m\u001b[0;34m,\u001b[0m \u001b[0;34m*\u001b[0m\u001b[0margs\u001b[0m\u001b[0;34m)\u001b[0m\u001b[0;34m\u001b[0m\u001b[0;34m\u001b[0m\u001b[0m\n",
      "\u001b[0;32m<ipython-input-32-bebaf2aebff1>\u001b[0m in \u001b[0;36mecuacion_2r\u001b[0;34m(m)\u001b[0m\n\u001b[1;32m     62\u001b[0m \u001b[0;34m\u001b[0m\u001b[0m\n\u001b[1;32m     63\u001b[0m \u001b[0;32mdef\u001b[0m \u001b[0mecuacion_2r\u001b[0m\u001b[0;34m(\u001b[0m\u001b[0mm\u001b[0m\u001b[0;34m)\u001b[0m\u001b[0;34m:\u001b[0m\u001b[0;34m\u001b[0m\u001b[0;34m\u001b[0m\u001b[0m\n\u001b[0;32m---> 64\u001b[0;31m     \u001b[0;32mreturn\u001b[0m \u001b[0;34m-\u001b[0m\u001b[0mmr2\u001b[0m\u001b[0;34m+\u001b[0m\u001b[0mm\u001b[0m\u001b[0;34m-\u001b[0m\u001b[0;34m(\u001b[0m\u001b[0mlambd\u001b[0m\u001b[0;34m**\u001b[0m\u001b[0;36m2\u001b[0m\u001b[0;34m/\u001b[0m\u001b[0;36m6\u001b[0m\u001b[0;34m)\u001b[0m\u001b[0;34m*\u001b[0m\u001b[0mintegral_2r\u001b[0m\u001b[0;34m(\u001b[0m\u001b[0mm\u001b[0m\u001b[0;34m)\u001b[0m\u001b[0;34m\u001b[0m\u001b[0;34m\u001b[0m\u001b[0m\n\u001b[0m\u001b[1;32m     65\u001b[0m \u001b[0;34m\u001b[0m\u001b[0m\n\u001b[1;32m     66\u001b[0m \u001b[0;32mdef\u001b[0m \u001b[0mlambda_bare\u001b[0m\u001b[0;34m(\u001b[0m\u001b[0mm\u001b[0m\u001b[0;34m)\u001b[0m\u001b[0;34m:\u001b[0m\u001b[0;34m\u001b[0m\u001b[0;34m\u001b[0m\u001b[0m\n",
      "\u001b[0;32m<ipython-input-32-bebaf2aebff1>\u001b[0m in \u001b[0;36mintegral_2r\u001b[0;34m(m)\u001b[0m\n\u001b[1;32m     46\u001b[0m     \u001b[0mb4\u001b[0m\u001b[0;34m=\u001b[0m\u001b[0mnp\u001b[0m\u001b[0;34m.\u001b[0m\u001b[0mtile\u001b[0m\u001b[0;34m(\u001b[0m\u001b[0mnp\u001b[0m\u001b[0;34m.\u001b[0m\u001b[0mlinspace\u001b[0m\u001b[0;34m(\u001b[0m\u001b[0;34m-\u001b[0m\u001b[0;36m2\u001b[0m\u001b[0;34m*\u001b[0m\u001b[0mpi\u001b[0m\u001b[0;34m*\u001b[0m\u001b[0mT\u001b[0m\u001b[0;34m*\u001b[0m\u001b[0mN\u001b[0m\u001b[0;34m,\u001b[0m\u001b[0;36m2\u001b[0m\u001b[0;34m*\u001b[0m\u001b[0mpi\u001b[0m\u001b[0;34m*\u001b[0m\u001b[0mT\u001b[0m\u001b[0;34m*\u001b[0m\u001b[0mN\u001b[0m\u001b[0;34m,\u001b[0m\u001b[0;36m2\u001b[0m\u001b[0;34m*\u001b[0m\u001b[0mN\u001b[0m\u001b[0;34m)\u001b[0m\u001b[0;34m,\u001b[0m\u001b[0;34m(\u001b[0m\u001b[0;36m2\u001b[0m\u001b[0;34m*\u001b[0m\u001b[0mN\u001b[0m\u001b[0;34m)\u001b[0m\u001b[0;34m*\u001b[0m\u001b[0mN_k\u001b[0m\u001b[0;34m*\u001b[0m\u001b[0mN_k\u001b[0m\u001b[0;34m)\u001b[0m\u001b[0;34m\u001b[0m\u001b[0;34m\u001b[0m\u001b[0m\n\u001b[1;32m     47\u001b[0m \u001b[0;34m\u001b[0m\u001b[0m\n\u001b[0;32m---> 48\u001b[0;31m     \u001b[0;32mreturn\u001b[0m \u001b[0msum\u001b[0m\u001b[0;34m(\u001b[0m\u001b[0mg_2\u001b[0m\u001b[0;34m(\u001b[0m\u001b[0mb1\u001b[0m\u001b[0;34m,\u001b[0m\u001b[0mb2\u001b[0m\u001b[0;34m,\u001b[0m\u001b[0mb3\u001b[0m\u001b[0;34m,\u001b[0m\u001b[0mb4\u001b[0m\u001b[0;34m)\u001b[0m\u001b[0;34m)\u001b[0m\u001b[0;34m*\u001b[0m\u001b[0;34m(\u001b[0m\u001b[0;36m2\u001b[0m\u001b[0;34m*\u001b[0m\u001b[0mpi\u001b[0m\u001b[0;34m*\u001b[0m\u001b[0mT\u001b[0m\u001b[0;34m)\u001b[0m\u001b[0;34m*\u001b[0m\u001b[0;34m(\u001b[0m\u001b[0;36m2\u001b[0m\u001b[0;34m*\u001b[0m\u001b[0mpi\u001b[0m\u001b[0;34m*\u001b[0m\u001b[0mT\u001b[0m\u001b[0;34m)\u001b[0m\u001b[0;34m*\u001b[0m\u001b[0;34m(\u001b[0m\u001b[0;36m2\u001b[0m\u001b[0;34m*\u001b[0m\u001b[0mpi\u001b[0m\u001b[0;34m/\u001b[0m\u001b[0mN_k\u001b[0m\u001b[0;34m)\u001b[0m\u001b[0;34m*\u001b[0m\u001b[0;34m(\u001b[0m\u001b[0;36m2\u001b[0m\u001b[0;34m*\u001b[0m\u001b[0mpi\u001b[0m\u001b[0;34m/\u001b[0m\u001b[0mN_k\u001b[0m\u001b[0;34m)\u001b[0m\u001b[0;34m\u001b[0m\u001b[0;34m\u001b[0m\u001b[0m\n\u001b[0m\u001b[1;32m     49\u001b[0m \u001b[0;34m\u001b[0m\u001b[0m\n\u001b[1;32m     50\u001b[0m \u001b[0;32mdef\u001b[0m \u001b[0mintegral_3r\u001b[0m\u001b[0;34m(\u001b[0m\u001b[0mm\u001b[0m\u001b[0;34m)\u001b[0m\u001b[0;34m:\u001b[0m \u001b[0;31m#Coupling constant renormalisation\u001b[0m\u001b[0;34m\u001b[0m\u001b[0;34m\u001b[0m\u001b[0m\n",
      "\u001b[0;31mKeyboardInterrupt\u001b[0m: "
     ]
    }
   ],
   "source": [
    "lambdas=np.linspace(1,150,10)\n",
    "terms=[5,15,30]\n",
    "m_0C=np.empty([len(terms),len(lambdas)])\n",
    "m_r1=np.empty([len(terms),len(lambdas)])\n",
    "lambda_0=np.empty([len(terms),len(lambdas)])\n",
    "m_r1[0,:]=[0,0.015,0.055,0.10,0.16,0.23,0.19,0.36,0.43,0.49]\n",
    "indice_termino, indice_lambd=0, 0\n",
    "\n",
    "T, mr2= 0.1, 0\n",
    "\n",
    "for terminos in terms:\n",
    "    print(terminos)\n",
    "    for lambd in lambdas:\n",
    "        m_r1[indice_termino,indice_lambd]=optimize.newton(ecuacion_2r,m_r1[indice_termino-1,indice_lambd],tol=1e-2)\n",
    "        m_0C[indice_termino,indice_lambd]=ecuacion_1r(m_r1[indice_termino,indice_lambd])\n",
    "        lambda_0[indice_termino,indice_lambd]=lambda_bare(m_r1[indice_termino,indice_lambd])\n",
    "        print(m_0C[indice_termino,indice_lambd])\n",
    "        indice_lambd+=1\n",
    "    indice_termino+=1\n",
    "    indice_lambd=0\n",
    "    \n",
    "valor=['j=5','j=15','j=30','j=60']\n",
    "\n",
    "%matplotlib qt\n",
    "for indice_plot in range(len(terms)):\n",
    "    #plt.plot(m_0C[indice_plot,:],lambdas,'*-',label=valor[indice_plot])\n",
    "    plt.plot(m_0C[indice_plot,:],lambda_0[indice_plot,:],'*-',label=valor[indice_plot])\n",
    "plt.xlabel('$m_{0}^{2}$')\n",
    "plt.ylabel('$\\lambda_0$')\n",
    "#plt.title('critical parameters depending of the number of neighbour interactions')\n",
    "plt.legend()\n",
    "plt.grid()\n",
    "plt.show()"
   ]
  },
  {
   "cell_type": "markdown",
   "metadata": {},
   "source": [
    "Contour plots using the trapped-ion parameters"
   ]
  },
  {
   "cell_type": "code",
   "execution_count": 3,
   "metadata": {},
   "outputs": [
    {
     "name": "stdout",
     "output_type": "stream",
     "text": [
      "Execution time: 1854.7731161117554\n"
     ]
    }
   ],
   "source": [
    "index_lambdas=10 #select the number of points accoirding to the dessired precission\n",
    "index_mr2=10\n",
    "index_T=20\n",
    "\n",
    "N, N_k= 20, 10\n",
    "\n",
    "#lambdas=np.linspace(0.01,1000,index_lambdas)\n",
    "#MR2=np.linspace(0.0001,4,index_mr2) #MR2=[0]\n",
    "#t=np.linspace(0,20,index_T)\n",
    "\n",
    "lambdas=np.linspace(1e-4,1e-3,index_lambdas)\n",
    "MR2=np.linspace(1e-10,0.001,index_mr2) #MR2=[0]\n",
    "t=np.linspace(0,1.5,index_T)\n",
    "\n",
    "m_0C,lambda_0 =np.empty([index_lambdas,index_mr2,index_T]), np.empty([index_lambdas,index_mr2,index_T])\n",
    "\n",
    "k, l, j= 0, 0, 0\n",
    "iteraciones=0\n",
    "\n",
    "startTime = time.time()\n",
    "for T in t:\n",
    "    for mr2 in MR2:\n",
    "        m0=mr2\n",
    "        for lambd in lambdas:\n",
    "            print('Completed (%):',100*iteraciones/(index_lambdas*index_mr2*index_T),end='\\r')\n",
    "            m_r1=optimize.newton(ecuacion_2r,m0,tol=1e-2)\n",
    "            m0=m_r1\n",
    "            m_0C[l,k,j]=ecuacion_1r(m_r1)\n",
    "            lambda_0[l,k,j]=lambda_bare(m_r1)\n",
    "            iteraciones+=1\n",
    "            l+=1\n",
    "        k+=1\n",
    "        l=0\n",
    "    j+=1\n",
    "    k=0\n",
    "\n",
    "executionTime=(time.time()-startTime)\n",
    "print('Execution time:' ,executionTime)"
   ]
  },
  {
   "cell_type": "code",
   "execution_count": 4,
   "metadata": {},
   "outputs": [
    {
     "name": "stdout",
     "output_type": "stream",
     "text": [
      "0.0006652264087493053 1.6406826873260456 [224.79450045660906, 9808.127833789942]\n"
     ]
    }
   ],
   "source": [
    "#trap frequencies and anisotropy parameter\n",
    "w_x=2*pi*1.27e5\n",
    "k_c=0.0024\n",
    "k_min=1e-4\n",
    "\n",
    "w_z = lambda k: (1/k)**(1/2)*w_x\n",
    "w_z1 = w_z(k_c)\n",
    "w_z2= w_z(k_min)\n",
    "\n",
    "#fundamental parameters\n",
    "\n",
    "h_bar=1.05457e-34\n",
    "a_l=0.279894\n",
    "k_B=1.38065e-23\n",
    "e=1.60217e-19\n",
    "eps_0=8.85419e-12\n",
    "m_a=6.63e-26\n",
    "zeta_3=1.202056\n",
    "\n",
    "a=a_l*(e**2/(4*pi*eps_0*m_a*w_x**2))**(1/3)\n",
    "\n",
    "#using the exact formula in the thermodinamical limit\n",
    "\n",
    "lambda_ions=(h_bar/(m_a*w_x*a**2))*(1/(a_l)**3*1/np.log(2))**(1/2)\n",
    "m02_ions = lambda w_z: (w_z/w_x)**2-1/(a_l)**3*(7/2)*zeta_3\n",
    "\n",
    "#using the approximated formula\n",
    "\n",
    "interactions=50\n",
    "\n",
    "def m02_ions_aprox(w_z): \n",
    "    sum_=0\n",
    "    for r in range(int(interactions/2)):\n",
    "        sum_+=(2/(r+1)**3)*(1-(-1)**(r+1))\n",
    "    return (w_z/w_x)**2-1/(a_l)**3*sum_\n",
    "\n",
    "#ranges of the dimensionless parameters for the contoutplot using trap parameters\n",
    "\n",
    "m_02_ions1 = m02_ions(w_z1) \n",
    "m_02_ions2 = m02_ions(w_z2)\n",
    "\n",
    "m_02_ions2_aprox = m02_ions_aprox(w_z2)\n",
    "\n",
    "T_ions=k_B*1e-5/(h_bar*w_x)\n",
    "\n",
    "print(lambda_ions, T_ions, [m_02_ions1, m_02_ions2])"
   ]
  },
  {
   "cell_type": "code",
   "execution_count": 51,
   "metadata": {},
   "outputs": [],
   "source": [
    "\n",
    "#lambda_fijo = lambda_ions #Select a coupling constant from the valid range\n",
    "lambda_fijo = 5e-4\n",
    "m_0C_new, MR2_new, t_new= np.empty([index_mr2,index_T]), np.empty([index_mr2,index_T]), np.empty([index_mr2,index_T])\n",
    "\n",
    "for i in range(index_mr2):\n",
    "    for j in range(index_T):\n",
    "        diferencias=abs(lambda_0[:,i,j]-lambda_fijo)\n",
    "        index_lambda_fijo=np.where(diferencias==min(diferencias))\n",
    "        m_0C_new[i,j]=m_0C[index_lambda_fijo,i,j]\n",
    "    MR2_new[i,:]= 1/MR2[i] #MR2[i]\n",
    "for i in range(index_T):\n",
    "    t_new[:,i]=t[i]\n",
    "    \n",
    "%matplotlib qt\n",
    "plt.contourf(m_0C_new,t_new,MR2_new,100,cmap=\"plasma\")\n",
    "plt.xlabel('$m_0^{2}$')\n",
    "plt.ylabel('$T$')\n",
    "plt.xlim(-0.0003,0.0003) \n",
    "#plt.ylim((0, T_ions))\n",
    "plt.grid()\n",
    "cbar=plt.colorbar()\n",
    "cbar.set_label('${m_{R2}}^2$')"
   ]
  },
  {
   "cell_type": "code",
   "execution_count": 52,
   "metadata": {},
   "outputs": [
    {
     "name": "stderr",
     "output_type": "stream",
     "text": [
      "/Users/pablovinasmartinez/opt/anaconda3/lib/python3.7/site-packages/ipykernel_launcher.py:14: RuntimeWarning: divide by zero encountered in double_scalars\n",
      "  \n"
     ]
    }
   ],
   "source": [
    "m_0C_new2 = m_0C_new + 1/(a_l)**3*(7/2)*zeta_3\n",
    "t_new2 = np.empty([index_mr2,index_T])\n",
    "\n",
    "def prom_phonons(tilde_T):\n",
    "    cuantos_enum=np.array(range(1000))\n",
    "        \n",
    "    BE = lambda n,T: 1/(np.exp((n+0.5)/tilde_T)-1)\n",
    "\n",
    "    prom = sum(BE(cuantos_enum,tilde_T))\n",
    "        \n",
    "    return prom\n",
    "\n",
    "def prom_phonons_exact(tilde_T):\n",
    "    return 1/(np.exp(1/tilde_T)-1)\n",
    "\n",
    "for i in range(index_T):\n",
    "    t_new2[:,i]=[prom_phonons_exact(tilde_T) for tilde_T in t_new[:,i]]"
   ]
  },
  {
   "cell_type": "code",
   "execution_count": 54,
   "metadata": {},
   "outputs": [],
   "source": [
    "%matplotlib qt\n",
    "plt.contourf(m_0C_new2,t_new2,MR2_new,100,cmap=\"plasma\")\n",
    "plt.xlabel('$m_0^{2}$')\n",
    "plt.ylabel('$T$')\n",
    "plt.xlim(0.00005+1.91872e2, 0.00030+1.91872e2)  \n",
    "#plt.ylim((0, T_ions))\n",
    "plt.grid()\n",
    "cbar=plt.colorbar()\n",
    "cbar.set_label('${m_{R2}}^2$')"
   ]
  },
  {
   "cell_type": "code",
   "execution_count": 1,
   "metadata": {},
   "outputs": [],
   "source": [
    "#prom_phonons(1.2)"
   ]
  },
  {
   "cell_type": "code",
   "execution_count": null,
   "metadata": {},
   "outputs": [],
   "source": []
  }
 ],
 "metadata": {
  "kernelspec": {
   "display_name": "Python 3.7.4 ('base')",
   "language": "python",
   "name": "python3"
  },
  "language_info": {
   "codemirror_mode": {
    "name": "ipython",
    "version": 3
   },
   "file_extension": ".py",
   "mimetype": "text/x-python",
   "name": "python",
   "nbconvert_exporter": "python",
   "pygments_lexer": "ipython3",
   "version": "3.7.4"
  },
  "vscode": {
   "interpreter": {
    "hash": "12b14a0f037501b1c1fd39d8955a9a678afe32a4252be82baea156a9ea8fade1"
   }
  }
 },
 "nbformat": 4,
 "nbformat_minor": 2
}
